{
  "cells": [
    {
      "cell_type": "markdown",
      "metadata": {
        "id": "view-in-github"
      },
      "source": [
        "[![Open In Colab](https://colab.research.google.com/assets/colab-badge.svg)](https://colab.research.google.com/github/camenduru/StyleLipSync-colab/blob/main/StyleLipSync_colab.ipynb)"
      ]
    },
    {
      "cell_type": "code",
      "execution_count": null,
      "metadata": {
        "id": "VjYy0F2gZIPR"
      },
      "outputs": [],
      "source": [
        "%cd /content\n",
        "!git clone -b dev https://github.com/camenduru/StyleLipSync\n",
        "%cd /content/StyleLipSync\n",
        "\n",
        "!wget https://huggingface.co/audo/StyleLipSync/resolve/main/AlexandriaOcasioCortez_0.zip?download=true -O /content/StyleLipSync/data/AlexandriaOcasioCortez_0.zip\n",
        "!unzip /content/StyleLipSync/data/AlexandriaOcasioCortez_0.zip -d /content/StyleLipSync/data/\n",
        "!rm -rf /content/StyleLipSync/data/__MACOSX\n",
        "!wget https://huggingface.co/audo/StyleLipSync/resolve/main/AlexandriaOcasioCortez_0_3k.pth?download=true -O /content/StyleLipSync/ckpts/AlexandriaOcasioCortez_0_3k.pth\n",
        "!wget https://huggingface.co/audo/StyleLipSync/resolve/main/w_avg.pth?download=true -O /content/StyleLipSync/ckpts/w_avg.pth\n",
        "\n",
        "!pip install -q ninja albumentations\n",
        "!mkdir /content/StyleLipSync/results"
      ]
    },
    {
      "cell_type": "code",
      "execution_count": null,
      "metadata": {},
      "outputs": [],
      "source": [
        "!python run_demo.py --audio /content/StyleLipSync/data/audio/RoyBlunt_0_10s.wav \\\n",
        "                    --person /content/StyleLipSync/data/AlexandriaOcasioCortez_0 \\\n",
        "                    --res_dir /content/StyleLipSync/results"
      ]
    }
  ],
  "metadata": {
    "accelerator": "GPU",
    "colab": {
      "gpuType": "T4",
      "provenance": []
    },
    "kernelspec": {
      "display_name": "Python 3",
      "name": "python3"
    },
    "language_info": {
      "name": "python"
    }
  },
  "nbformat": 4,
  "nbformat_minor": 0
}
